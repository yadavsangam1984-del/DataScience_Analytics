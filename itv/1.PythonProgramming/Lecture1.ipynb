{
 "cells": [
  {
   "cell_type": "code",
   "execution_count": 8,
   "id": "e6bfb796",
   "metadata": {},
   "outputs": [
    {
     "name": "stdout",
     "output_type": "stream",
     "text": [
      "<class 'int'>\n",
      "<class 'float'>\n",
      "<class 'complex'>\n"
     ]
    }
   ],
   "source": [
    "# Single line Comment\n",
    "\n",
    "# Data Types in Python Programming\n",
    "''' \n",
    "1.Int\n",
    "2.float\n",
    "3.complex\n",
    "4.string\n",
    "5.boolean\n",
    "6.list\n",
    "7.tuple\n",
    "8.set\n",
    "9.dict\n",
    "10.class : custom Datatype\n",
    "\n",
    "'''\n",
    "number = 100\n",
    "number1 = 23.456\n",
    "number2 = 2+3j\n",
    "\n",
    "\n",
    "print(type(number)) #this will give the datatype of number\n",
    "print(type(number1))\n",
    "print(type(number2))\n",
    "\n"
   ]
  },
  {
   "cell_type": "code",
   "execution_count": 9,
   "id": "a607b23f",
   "metadata": {},
   "outputs": [],
   "source": [
    "# Variable Definition\n",
    "\n",
    "x = 10  #single variable assignment\n",
    "x,y=1000,2000\n",
    "x,y,z,_=1,2,3,4  #multiple variable assignment\n",
    "\n",
    "_,a,b,c=10,20,30,40\n"
   ]
  },
  {
   "cell_type": "code",
   "execution_count": null,
   "id": "70ba6511",
   "metadata": {},
   "outputs": [
    {
     "name": "stdout",
     "output_type": "stream",
     "text": [
      "100100\n"
     ]
    }
   ],
   "source": [
    "num='100'\n",
    "num1=2\n",
    "\n",
    "num2=num*num1\n",
    "print(num2)"
   ]
  }
 ],
 "metadata": {
  "kernelspec": {
   "display_name": "Python 3",
   "language": "python",
   "name": "python3"
  },
  "language_info": {
   "codemirror_mode": {
    "name": "ipython",
    "version": 3
   },
   "file_extension": ".py",
   "mimetype": "text/x-python",
   "name": "python",
   "nbconvert_exporter": "python",
   "pygments_lexer": "ipython3",
   "version": "3.12.11"
  }
 },
 "nbformat": 4,
 "nbformat_minor": 5
}

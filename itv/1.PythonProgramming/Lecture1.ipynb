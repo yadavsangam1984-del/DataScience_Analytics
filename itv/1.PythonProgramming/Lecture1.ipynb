{
 "cells": [
  {
   "cell_type": "code",
   "execution_count": 1,
   "id": "e6bfb796",
   "metadata": {},
   "outputs": [
    {
     "name": "stdout",
     "output_type": "stream",
     "text": [
      "<class 'int'>\n",
      "<class 'float'>\n",
      "<class 'complex'>\n"
     ]
    }
   ],
   "source": [
    "# Single line Comment\n",
    "\n",
    "# Data Types in Python Programming\n",
    "''' \n",
    "1.Int\n",
    "2.float\n",
    "3.complex\n",
    "4.string\n",
    "5.boolean\n",
    "6.list\n",
    "7.tuple\n",
    "8.set\n",
    "9.dict\n",
    "10.class : custom Datatype\n",
    "\n",
    "'''\n",
    "number = 100\n",
    "number1 = 23.456\n",
    "number2 = 2+3j\n",
    "\n",
    "\n",
    "print(type(number)) #this will give the datatype of number\n",
    "print(type(number1))\n",
    "print(type(number2))\n",
    "\n"
   ]
  },
  {
   "cell_type": "code",
   "execution_count": 2,
   "id": "a607b23f",
   "metadata": {},
   "outputs": [],
   "source": [
    "# Variable Definition\n",
    "\n",
    "x = 10  #single variable assignment\n",
    "x,y=1000,2000\n",
    "x,y,z,_=1,2,3,4  #multiple variable assignment\n",
    "\n",
    "_,a,b,c=10,20,30,40\n"
   ]
  },
  {
   "cell_type": "code",
   "execution_count": null,
   "id": "e54cb79a",
   "metadata": {},
   "outputs": [],
   "source": []
  },
  {
   "cell_type": "code",
   "execution_count": 3,
   "id": "70ba6511",
   "metadata": {},
   "outputs": [
    {
     "name": "stdout",
     "output_type": "stream",
     "text": [
      "100100\n"
     ]
    }
   ],
   "source": [
    "num='100'  # string\n",
    "num1=2\n",
    "\n",
    "num2=num*num1\n",
    "print(num2)"
   ]
  },
  {
   "cell_type": "code",
   "execution_count": null,
   "id": "346622b2",
   "metadata": {},
   "outputs": [],
   "source": []
  },
  {
   "cell_type": "code",
   "execution_count": 4,
   "id": "31eff529",
   "metadata": {},
   "outputs": [
    {
     "name": "stdout",
     "output_type": "stream",
     "text": [
      "20\n"
     ]
    }
   ],
   "source": [
    "number=10\n",
    "Number=20\n",
    "\n",
    "print(Number)"
   ]
  },
  {
   "cell_type": "code",
   "execution_count": 5,
   "id": "89cab134",
   "metadata": {},
   "outputs": [
    {
     "data": {
      "text/plain": [
       "'\\n1.special characters are not allowed at the prefix of variable\\nexample: 123num : Not allowed x\\n2.the variable definition should not contain any special character or space\\nexample : primary number : not allowed x\\n\\n'"
      ]
     },
     "execution_count": 5,
     "metadata": {},
     "output_type": "execute_result"
    }
   ],
   "source": [
    "Integer_Number = 100\n",
    "#Rules for Variable Definition\n",
    "\n",
    "'''\n",
    "1.special characters are not allowed at the prefix of variable\n",
    "example: 123num : Not allowed x\n",
    "2.the variable definition should not contain any special character or space\n",
    "example : primary number : not allowed x\n",
    "\n",
    "'''"
   ]
  },
  {
   "cell_type": "code",
   "execution_count": 6,
   "id": "88d32c0b",
   "metadata": {},
   "outputs": [
    {
     "name": "stdout",
     "output_type": "stream",
     "text": [
      "hi\n",
      "300\n"
     ]
    }
   ],
   "source": [
    "# print function\n",
    "\n",
    "print('hi')\n",
    "print(100+200)"
   ]
  },
  {
   "cell_type": "code",
   "execution_count": null,
   "id": "facdb220",
   "metadata": {},
   "outputs": [],
   "source": []
  },
  {
   "cell_type": "code",
   "execution_count": 7,
   "id": "87b9c4b7",
   "metadata": {},
   "outputs": [
    {
     "name": "stdout",
     "output_type": "stream",
     "text": [
      "200.0\n",
      "the output of two mathematical number operttion 200.0\n",
      "the output of two mathematical number operttion200.0\n",
      "the output of two mathematical number operttion 200.0\n",
      "\n"
     ]
    }
   ],
   "source": [
    "# example : simple calculator\n",
    "\n",
    "'''\n",
    "logic \n",
    "step1-ask user to enter the two values\n",
    "step2-perform mathematical operations\n",
    "step3-print the output\n",
    "\n",
    "'''\n",
    "\n",
    "num1 = float(input('Enter the first value:')) #type casted to float\n",
    "num2 = float(input('Enter the second value:'))#type casted to float\n",
    "\n",
    "num3=num1+num2\n",
    "\n",
    "\n",
    "print(num3)\n",
    "\n",
    "\n",
    "'''\n",
    "\n",
    "\n",
    "\n",
    "'''\n",
    "print ('the output of two mathematical number operttion',num3)\n",
    "print (f'the output of two mathematical number operttion{num3}') #f string method\n",
    "print(f'the output of two mathematical number operttion {num3}'.format(num3))\n",
    "print()"
   ]
  },
  {
   "cell_type": "code",
   "execution_count": 8,
   "id": "4d30372b",
   "metadata": {},
   "outputs": [
    {
     "data": {
      "text/plain": [
       "'\\n1. add\\n2.sub\\n3.mult\\n4.divide\\n\\n'"
      ]
     },
     "execution_count": 8,
     "metadata": {},
     "output_type": "execute_result"
    }
   ],
   "source": [
    "#operations in python programming\n",
    "'''\n",
    "1. add\n",
    "2.sub\n",
    "3.mult\n",
    "4.divide\n",
    "\n",
    "'''"
   ]
  },
  {
   "cell_type": "code",
   "execution_count": 9,
   "id": "2f17ea12",
   "metadata": {},
   "outputs": [
    {
     "data": {
      "text/plain": [
       "(35, 20, 40, 20.0, 20, 0)"
      ]
     },
     "execution_count": 9,
     "metadata": {},
     "output_type": "execute_result"
    }
   ],
   "source": [
    "12+23,40-20,20*2,40/2,40//2,40%2"
   ]
  },
  {
   "cell_type": "code",
   "execution_count": 10,
   "id": "e3ff1100",
   "metadata": {},
   "outputs": [
    {
     "name": "stdout",
     "output_type": "stream",
     "text": [
      "el ec\n"
     ]
    }
   ],
   "source": [
    "#concept of indexing nd slicing\n",
    "\n",
    "str='hello welcome to the world of python programming.'\n",
    "\n",
    "str[-3]\n",
    "\n",
    "'''\n",
    "note :\n",
    "string indexing : string[start:stop:step]\n",
    "\n",
    "'''\n",
    "#ello welc\n",
    "print(str[1 :10 :2])"
   ]
  },
  {
   "cell_type": "code",
   "execution_count": 11,
   "id": "6feed5f3",
   "metadata": {},
   "outputs": [
    {
     "name": "stdout",
     "output_type": "stream",
     "text": [
      "i sagetcut\n"
     ]
    }
   ],
   "source": [
    "str= 'India is a great country'\n",
    "print(str[3:-2:2])"
   ]
  },
  {
   "cell_type": "code",
   "execution_count": 12,
   "id": "66c0ab2b",
   "metadata": {},
   "outputs": [
    {
     "name": "stdout",
     "output_type": "stream",
     "text": [
      "rica Nic\n"
     ]
    }
   ],
   "source": [
    "str='America Nice'\n",
    "print(str[-9:-1:])"
   ]
  },
  {
   "cell_type": "code",
   "execution_count": 13,
   "id": "47bc8a0e",
   "metadata": {},
   "outputs": [
    {
     "name": "stdout",
     "output_type": "stream",
     "text": [
      "I am True\n"
     ]
    }
   ],
   "source": [
    "# if else statement\n",
    "\n",
    "\n",
    "if True:\n",
    "    print(\"I am True\")\n",
    "    \n",
    "if False:\n",
    "    print(\"I am False\")"
   ]
  },
  {
   "cell_type": "code",
   "execution_count": 14,
   "id": "07cb92f8",
   "metadata": {},
   "outputs": [
    {
     "name": "stdout",
     "output_type": "stream",
     "text": [
      "not satisfy the criteria\n"
     ]
    }
   ],
   "source": [
    "'''logic:\n",
    "if <condition>\n",
    "    print(\"output1\")\n",
    "    \n",
    "else:\n",
    "   print(\"output2\")\n",
    "    '''\n",
    "    \n",
    "    \n",
    "num=100\n",
    "\n",
    "if num > 100:\n",
    "    print('the number is satisfy criteria')\n",
    "    \n",
    "else:\n",
    "    print('not satisfy the criteria')    "
   ]
  },
  {
   "cell_type": "code",
   "execution_count": 15,
   "id": "dc6bc4e1",
   "metadata": {},
   "outputs": [],
   "source": [
    "# Guessing the number game\n",
    "''' \n",
    "\n",
    "Logic:\n",
    "step1: Enter the Number\n",
    "step2: Write logic code to guess the correct number\n",
    "step3: output\n",
    "\n",
    "'''\n",
    "number=float(input('enter the number between 1 to 3:'))\n",
    "if number == 1:\n",
    "    print('the number is 1')\n",
    "    \n",
    "if number==2:\n",
    "    print('the number is 2')\n",
    "    \n",
    "if number==3:\n",
    "    print('the number is 3')\n",
    "\n"
   ]
  },
  {
   "cell_type": "code",
   "execution_count": 16,
   "id": "4a03fae0",
   "metadata": {},
   "outputs": [
    {
     "name": "stdout",
     "output_type": "stream",
     "text": [
      "The Enter number is higher value\n",
      "The Enter number is 2\n"
     ]
    }
   ],
   "source": [
    "number - float(input())\n",
    "if number >2:\n",
    "    print('The Enter number is higher value')\n",
    "    \n",
    "if number <2:\n",
    "    print('The Enter number is lower value')\n",
    "    \n",
    "else:\n",
    "    print('The Enter number is 2')"
   ]
  },
  {
   "cell_type": "code",
   "execution_count": 17,
   "id": "885ad403",
   "metadata": {},
   "outputs": [
    {
     "name": "stdout",
     "output_type": "stream",
     "text": [
      "very good\n"
     ]
    }
   ],
   "source": [
    "if True:\n",
    "    if True:\n",
    "        if True:\n",
    "            print('very good')"
   ]
  },
  {
   "cell_type": "code",
   "execution_count": 18,
   "id": "7187be80",
   "metadata": {},
   "outputs": [
    {
     "name": "stdout",
     "output_type": "stream",
     "text": [
      "not a palindrom\n"
     ]
    }
   ],
   "source": [
    "#example : to check whether the given string is palandrom or not\n",
    "'''\n",
    "step1:ask user to enter the string\n",
    "step2: Reverse the string\n",
    "step3: use if else logic to print the output\n",
    "\n",
    "'''\n",
    "\n",
    "text1=input('Enter the string') # assignment operator\n",
    "text2=text1[::-1]\n",
    "\n",
    "if text1 == text2:\n",
    "    print('The given string is palindrom')\n",
    "else:\n",
    "    print('not a palindrom')\n",
    "    "
   ]
  },
  {
   "cell_type": "code",
   "execution_count": 19,
   "id": "970e1910",
   "metadata": {},
   "outputs": [
    {
     "name": "stdout",
     "output_type": "stream",
     "text": [
      "the volume of cylinder is 78552.5 mm^3\n"
     ]
    }
   ],
   "source": [
    "8//5\n",
    "\n",
    "\n",
    "\n",
    "# EXAMPLE : WRITE A PROGRAM TO PRINT VOLUME \n",
    "'''\n",
    "VOLUME = AREA*HEIGHT\n",
    "STEP1:ASK USER TO ENTER THE DIAMETER OF CYLENDER\n",
    "STEP2:ASK USER TO ENTER THE HEIGHT OF CYLENDER\n",
    "STEP3:VOLUME =AREA *HEIGHT\n",
    "STEP4:PRINT THE DESIRED OUTPUT\n",
    "'''\n",
    "\n",
    "PI=3.1421\n",
    "DIAMETER = float(input(\"enter the diameter of the cylinder\"))\n",
    "height=float(input(\"enter the height of the cylinder\"))\n",
    "\n",
    "volume=(PI/4)*(DIAMETER**2)* height \n",
    "\n",
    "print (f'the volume of cylinder is {volume} mm^3')\n"
   ]
  },
  {
   "cell_type": "code",
   "execution_count": 20,
   "id": "ef9ff78b",
   "metadata": {},
   "outputs": [
    {
     "name": "stdout",
     "output_type": "stream",
     "text": [
      "Average\n"
     ]
    }
   ],
   "source": [
    "#exmple:\n",
    "'''\n",
    "step1: ask user to enter the marks \n",
    "step2: logic:\n",
    "       marks >90:  excellent\n",
    "       90<marks>60: bright\n",
    "       marks less than 60:moderate\n",
    "step3:print the output\n",
    "'''\n",
    "marks=float(input(\"Enter the number\"))\n",
    "\n",
    "if marks>90:\n",
    "    print('Excellent')\n",
    "elif marks<90 and marks>60:\n",
    "    print(\"Bright\")\n",
    "else:\n",
    "    print(\"Average\")\n",
    "\n",
    "\n"
   ]
  },
  {
   "cell_type": "code",
   "execution_count": 21,
   "id": "26e4523f",
   "metadata": {},
   "outputs": [
    {
     "name": "stdout",
     "output_type": "stream",
     "text": [
      "0\n",
      "1\n",
      "2\n",
      "3\n",
      "4\n",
      "5\n",
      "6\n",
      "7\n",
      "8\n",
      "9\n"
     ]
    }
   ],
   "source": [
    "# for loop \n",
    "# range (start ,stop,step)\n",
    "for i in range(0,10):\n",
    "    print(i)\n"
   ]
  },
  {
   "cell_type": "code",
   "execution_count": 22,
   "id": "cc8b2228",
   "metadata": {},
   "outputs": [
    {
     "name": "stdout",
     "output_type": "stream",
     "text": [
      "0\n",
      "2\n",
      "4\n",
      "6\n",
      "8\n"
     ]
    }
   ],
   "source": [
    "for i in range(0,10,2):\n",
    "    print(i)"
   ]
  },
  {
   "cell_type": "code",
   "execution_count": 23,
   "id": "5cef45ed",
   "metadata": {},
   "outputs": [
    {
     "name": "stdout",
     "output_type": "stream",
     "text": [
      "0 1 2 3 4 5 6 7 8 9 "
     ]
    }
   ],
   "source": [
    "for i in range(0,10):\n",
    "    print(i,end=\" \")"
   ]
  },
  {
   "cell_type": "code",
   "execution_count": 24,
   "id": "6249f894",
   "metadata": {},
   "outputs": [
    {
     "name": "stdout",
     "output_type": "stream",
     "text": [
      " $ $$ $$$ $$$$ $$$$$ $$$$$$ $$$$$$$ $$$$$$$$ $$$$$$$$$ "
     ]
    }
   ],
   "source": [
    "for i in range(10):\n",
    "    print('$'*i,end=\" \")"
   ]
  },
  {
   "cell_type": "code",
   "execution_count": 25,
   "id": "7fa4346b",
   "metadata": {},
   "outputs": [
    {
     "name": "stdout",
     "output_type": "stream",
     "text": [
      "0\n",
      "1\n",
      "2\n",
      "3\n",
      "4\n",
      "5\n",
      "6\n"
     ]
    }
   ],
   "source": [
    "for i in range(0,10):\n",
    "    print(i)\n",
    "    if i ==6:\n",
    "        break"
   ]
  },
  {
   "cell_type": "code",
   "execution_count": 26,
   "id": "6ce72e63",
   "metadata": {},
   "outputs": [
    {
     "name": "stdout",
     "output_type": "stream",
     "text": [
      "0\n",
      "1\n",
      "2\n",
      "3\n",
      "4\n",
      "5\n",
      "6\n",
      "7\n",
      "8\n",
      "9\n"
     ]
    }
   ],
   "source": [
    "for i in range(0,10):\n",
    "    print(i)\n",
    "    if i ==6:\n",
    "        continue"
   ]
  },
  {
   "cell_type": "code",
   "execution_count": null,
   "id": "a2faa212",
   "metadata": {},
   "outputs": [],
   "source": []
  },
  {
   "cell_type": "code",
   "execution_count": 27,
   "id": "3bb50b51",
   "metadata": {},
   "outputs": [],
   "source": [
    "#example\n",
    "#palindrom function definition\n",
    "def palindrom():\n",
    "    text1 = input"
   ]
  },
  {
   "cell_type": "code",
   "execution_count": 28,
   "id": "2a78c018",
   "metadata": {},
   "outputs": [
    {
     "name": "stdout",
     "output_type": "stream",
     "text": [
      "The Answer is 300\n"
     ]
    }
   ],
   "source": [
    "# Example\n",
    "\n",
    "def compute(num1,num2):\n",
    "    num3=num1+num2\n",
    "    return num3\n",
    "\n",
    "ans= compute(100,200)\n",
    "\n",
    "print(f'The Answer is {ans}')"
   ]
  },
  {
   "cell_type": "code",
   "execution_count": 29,
   "id": "0d433ac4",
   "metadata": {},
   "outputs": [
    {
     "name": "stdout",
     "output_type": "stream",
     "text": [
      "[1, 2, 3, 100.2, 3.1421, (3+4j), 'hello world', True, [1, 2, 3], 100]\n",
      "[0, 1, 2, 3, 100.2, 3.1421, (3+4j), 'hello world', True, [1, 2, 3], 100]\n"
     ]
    },
    {
     "data": {
      "text/plain": [
       "<function list.insert(index, object, /)>"
      ]
     },
     "execution_count": 29,
     "metadata": {},
     "output_type": "execute_result"
    }
   ],
   "source": [
    "#data structures of python progammng\n",
    "''' \n",
    "1.list\n",
    "2.tuple\n",
    "3.dictionary\n",
    "4.sets\n",
    "'''\n",
    "\n",
    "#list\n",
    "a=[1,2,3,100.2000,3.1421,3+4j,'hello world',True,[1,2,3]]\n",
    "a.append(100)\n",
    "print(a)\n",
    "a.insert(0,0)\n",
    "print(a)\n",
    "\n",
    "\n",
    "a.insert"
   ]
  },
  {
   "cell_type": "code",
   "execution_count": 30,
   "id": "4f0db84a",
   "metadata": {},
   "outputs": [
    {
     "name": "stdout",
     "output_type": "stream",
     "text": [
      "[0, 1, 2, 3, 100.2, 3.1421, (3+4j), 'hello world', True, [1, 2, 3]]\n"
     ]
    }
   ],
   "source": [
    "a.pop()\n",
    "print(a)"
   ]
  },
  {
   "cell_type": "code",
   "execution_count": 31,
   "id": "db19ed9c",
   "metadata": {},
   "outputs": [
    {
     "name": "stdout",
     "output_type": "stream",
     "text": [
      "[1, 2, 3, 100.2, 3.1421, (3+4j), 'hello world', True, [1, 2, 3]]\n"
     ]
    }
   ],
   "source": [
    "a.remove(0)\n",
    "print(a)"
   ]
  },
  {
   "cell_type": "code",
   "execution_count": 32,
   "id": "63c4eabb",
   "metadata": {},
   "outputs": [
    {
     "name": "stdout",
     "output_type": "stream",
     "text": [
      "2\n",
      "<class 'list'>\n"
     ]
    }
   ],
   "source": [
    "''' \n",
    "any function defined in is called as class\n",
    "example in a list a=[100,200,300]\n",
    "a.apprnd(400)\n",
    "here, append () is afunction ,but this function is defined inside a class list so it is called a method\n",
    " \n",
    "'''\n",
    "\n",
    "print(a.count(1))\n",
    "print(type(a))"
   ]
  },
  {
   "cell_type": "code",
   "execution_count": 33,
   "id": "ad8cb52a",
   "metadata": {},
   "outputs": [
    {
     "name": "stdout",
     "output_type": "stream",
     "text": [
      "[1000, 2000, 3000, 5000, 6000]\n"
     ]
    }
   ],
   "source": [
    "lst = [1000,5000,6000,2000,3000]\n",
    "lst.sort()\n",
    "print(lst) "
   ]
  },
  {
   "cell_type": "code",
   "execution_count": 34,
   "id": "7536439d",
   "metadata": {},
   "outputs": [
    {
     "name": "stdout",
     "output_type": "stream",
     "text": [
      "[6000, 5000, 3000, 2000, 1000]\n"
     ]
    }
   ],
   "source": [
    "lst.reverse()\n",
    "print(lst)"
   ]
  },
  {
   "cell_type": "code",
   "execution_count": 35,
   "id": "b059ed15",
   "metadata": {},
   "outputs": [],
   "source": [
    "lst=[100,200,[3000,400]]\n"
   ]
  },
  {
   "cell_type": "code",
   "execution_count": 36,
   "id": "8229f4ab",
   "metadata": {},
   "outputs": [
    {
     "name": "stdout",
     "output_type": "stream",
     "text": [
      "5\n",
      "1000\n"
     ]
    }
   ],
   "source": [
    "lst = [1,[2,3,4,5,[6,7,[10,[1000],110],200,300],10],1]\n",
    "print(lst[1][3])\n",
    "print(lst[1][4][2][1][0])"
   ]
  },
  {
   "cell_type": "code",
   "execution_count": 37,
   "id": "80c5969a",
   "metadata": {},
   "outputs": [
    {
     "name": "stdout",
     "output_type": "stream",
     "text": [
      "300\n",
      "300\n"
     ]
    }
   ],
   "source": [
    "print(lst[-2][-2][-1])\n",
    "print(lst[1][4][4])"
   ]
  },
  {
   "cell_type": "code",
   "execution_count": 38,
   "id": "2b942ba3",
   "metadata": {},
   "outputs": [
    {
     "name": "stdout",
     "output_type": "stream",
     "text": [
      "8\n",
      "[4, 5, [6], [7]]\n",
      "8\n",
      "100\n"
     ]
    }
   ],
   "source": [
    "lst=[100,200,300,[1,2,[3,4,5,[6],[7],[8,[9],1],1],1],1]\n",
    "print(lst[3][2][5][0])\n",
    "#4,5,[6],[7]\n",
    "print(lst[3][2][1:5])\n",
    "print(lst[-2][-2][-2][-3])\n",
    "print(lst[-0])\n"
   ]
  },
  {
   "cell_type": "code",
   "execution_count": 39,
   "id": "9f723ef8",
   "metadata": {},
   "outputs": [
    {
     "data": {
      "text/plain": [
       "3"
      ]
     },
     "execution_count": 39,
     "metadata": {},
     "output_type": "execute_result"
    }
   ],
   "source": [
    "#Tuble\n",
    "\n",
    "b=(1,2,2,2,3,4,5,\"Vaibhav\",True,False)\n",
    "b.count(2)\n",
    "\n"
   ]
  },
  {
   "cell_type": "code",
   "execution_count": 40,
   "id": "5af71beb",
   "metadata": {},
   "outputs": [
    {
     "data": {
      "text/plain": [
       "1"
      ]
     },
     "execution_count": 40,
     "metadata": {},
     "output_type": "execute_result"
    }
   ],
   "source": [
    "b.index(2)"
   ]
  },
  {
   "cell_type": "code",
   "execution_count": 41,
   "id": "48cdffd7",
   "metadata": {},
   "outputs": [
    {
     "name": "stdout",
     "output_type": "stream",
     "text": [
      "even number [10, 30]\n",
      "even number [21, 41, 51]\n"
     ]
    }
   ],
   "source": [
    "#example \n",
    "lst=[10,21,30,41,51]\n",
    "even = []\n",
    "odd = []\n",
    "\n",
    "for i in lst:\n",
    "    if i%2 ==0:\n",
    "        even.append(i)\n",
    "    else:\n",
    "        odd.append(i) \n",
    "print('even number',even) \n",
    "print('even number',odd)   \n",
    "        \n",
    "    "
   ]
  },
  {
   "cell_type": "code",
   "execution_count": 42,
   "id": "8b5760cb",
   "metadata": {},
   "outputs": [
    {
     "name": "stdout",
     "output_type": "stream",
     "text": [
      "(50, 60)\n"
     ]
    }
   ],
   "source": [
    "tup= (1,2,3,[4,5,6,7],[10,20,(30,40,(50,60,(70)))])\n",
    "\n",
    "print(tup[4][2][2][0:2])"
   ]
  },
  {
   "cell_type": "code",
   "execution_count": 43,
   "id": "4fbf967c",
   "metadata": {},
   "outputs": [
    {
     "name": "stdout",
     "output_type": "stream",
     "text": [
      "<class 'tuple'>\n",
      "<class 'list'>\n",
      "[10, 20, 30, 40, 50]\n"
     ]
    }
   ],
   "source": [
    "#Example\n",
    "\n",
    "tup = (10,20,30,40)\n",
    "print(type(tup))\n",
    "\n",
    "#typecaste\n",
    "tup=list(tup)\n",
    "\n",
    "print(type(tup))\n",
    "tup.append(50)\n",
    "print(tup)"
   ]
  },
  {
   "cell_type": "code",
   "execution_count": 44,
   "id": "0848b2ce",
   "metadata": {},
   "outputs": [
    {
     "name": "stdout",
     "output_type": "stream",
     "text": [
      "dict_keys(['1'])\n",
      "dict_values([10])\n"
     ]
    }
   ],
   "source": [
    "#dictionary \n",
    "#dict = {'key1':value}\n",
    "d={'1':10} # 1:key and 10: value\n",
    "print(d.keys())\n",
    "print(d.values())"
   ]
  },
  {
   "cell_type": "code",
   "execution_count": 45,
   "id": "ce5c6eee",
   "metadata": {},
   "outputs": [
    {
     "name": "stdout",
     "output_type": "stream",
     "text": [
      "2000\n"
     ]
    }
   ],
   "source": [
    "d = {'India':[1000,2000,3000,4000],'USA':2000,'UK':3000}\n",
    "print(d['India'][1])"
   ]
  },
  {
   "cell_type": "code",
   "execution_count": 46,
   "id": "7f5b0d37",
   "metadata": {},
   "outputs": [
    {
     "name": "stdout",
     "output_type": "stream",
     "text": [
      "1000\n"
     ]
    }
   ],
   "source": [
    "d = {'India':1000,'USA':2000,'UK':3000}\n",
    "print(d['India'])"
   ]
  },
  {
   "cell_type": "code",
   "execution_count": 47,
   "id": "c6ae13b7",
   "metadata": {},
   "outputs": [
    {
     "name": "stdout",
     "output_type": "stream",
     "text": [
      "5\n"
     ]
    }
   ],
   "source": [
    "d = {'India':[1,2,3,[4,[5]]],'USA':[100,200,300]}\n",
    "print(d['India'][3][1][0])"
   ]
  },
  {
   "cell_type": "code",
   "execution_count": 48,
   "id": "195f1708",
   "metadata": {},
   "outputs": [
    {
     "data": {
      "text/plain": [
       "{'USA': 1000, 'India': 2000}"
      ]
     },
     "execution_count": 48,
     "metadata": {},
     "output_type": "execute_result"
    }
   ],
   "source": [
    "#example :type cast 'd' to dictionary\n",
    "d=[('USA',1000),('India',2000)] \n",
    "d=dict(d)\n",
    "d"
   ]
  },
  {
   "cell_type": "code",
   "execution_count": 49,
   "id": "dafbab31",
   "metadata": {},
   "outputs": [],
   "source": [
    "d['UK']=3000"
   ]
  },
  {
   "cell_type": "code",
   "execution_count": 50,
   "id": "c002d9e6",
   "metadata": {},
   "outputs": [],
   "source": [
    " #del is a keyword used for delete the entry\n"
   ]
  },
  {
   "cell_type": "code",
   "execution_count": 51,
   "id": "70a0b886",
   "metadata": {},
   "outputs": [
    {
     "data": {
      "text/plain": [
       "{'USA': 1000, 'India': 2000, 'UK': 3000}"
      ]
     },
     "execution_count": 51,
     "metadata": {},
     "output_type": "execute_result"
    }
   ],
   "source": [
    "d"
   ]
  },
  {
   "cell_type": "code",
   "execution_count": 52,
   "id": "d46cea25",
   "metadata": {},
   "outputs": [
    {
     "name": "stdout",
     "output_type": "stream",
     "text": [
      "<class 'set'>\n",
      "{40, 10, 20, 30}\n"
     ]
    }
   ],
   "source": [
    "#SET\n",
    "d={1,2,3,4}\n",
    "print(type(d))\n",
    "\n",
    "d={10,10,20,30,40}\n",
    "print(d)"
   ]
  },
  {
   "cell_type": "code",
   "execution_count": 53,
   "id": "ba49d7fa",
   "metadata": {},
   "outputs": [
    {
     "name": "stdout",
     "output_type": "stream",
     "text": [
      "{50, 20, 40, 10, 60, 30}\n"
     ]
    }
   ],
   "source": [
    "a = {10,20,30}\n",
    "b = {40,50,60}\n",
    "\n",
    "print(a|b)"
   ]
  },
  {
   "cell_type": "code",
   "execution_count": 54,
   "id": "e0e61821",
   "metadata": {},
   "outputs": [
    {
     "name": "stdout",
     "output_type": "stream",
     "text": [
      "HELLO WELCOME TO THE WORLD OF PYTHON PROGRAMMING\n",
      "hello welcome to the world of python programming\n",
      "Hello welcome to the world of python programming\n",
      "False\n",
      "False\n",
      "False\n"
     ]
    }
   ],
   "source": [
    "#string \n",
    "\n",
    "str='Hello Welcome to the World of Python Programming'\n",
    "\n",
    "print(str.upper())\n",
    "print(str.lower())\n",
    "print(str.capitalize())\n",
    "print(str.isalnum())\n",
    "print(str.isalpha())\n",
    "print(str.islower())\n"
   ]
  },
  {
   "cell_type": "code",
   "execution_count": 55,
   "id": "b4a2fd68",
   "metadata": {},
   "outputs": [
    {
     "name": "stdout",
     "output_type": "stream",
     "text": [
      "Bucket1: ['Hello', 'World', 'Python', 'Programming']\n",
      "Bucket2: ['of']\n"
     ]
    }
   ],
   "source": [
    "#Example\n",
    "str = ['Hello','World','of','Python','Programming']\n",
    "\n",
    "bucket1=[]\n",
    "bucket2=[]\n",
    "\n",
    "for i in str:\n",
    "    if len (i)>4:\n",
    "        bucket1.append(i)\n",
    "    else:\n",
    "        bucket2.append(i)\n",
    "        \n",
    "print('Bucket1:',bucket1)\n",
    "print('Bucket2:',bucket2)\n"
   ]
  },
  {
   "cell_type": "code",
   "execution_count": 56,
   "id": "7a853190",
   "metadata": {},
   "outputs": [
    {
     "name": "stdout",
     "output_type": "stream",
     "text": [
      "[2, 4, 6, 8, 10, 12, 14, 16, 18, 20]\n"
     ]
    }
   ],
   "source": [
    "#Example\n",
    "#output :2 4 6 8 10 ...20\n",
    "\n",
    "num=[]\n",
    "def square():\n",
    "    for i in range(1,21):\n",
    "        if i%2==0:\n",
    "            num.append(i)\n",
    "    return num\n",
    "num=square()\n",
    "print(num)"
   ]
  },
  {
   "cell_type": "code",
   "execution_count": 57,
   "id": "d54ba933",
   "metadata": {},
   "outputs": [
    {
     "name": "stdout",
     "output_type": "stream",
     "text": [
      "300\n"
     ]
    }
   ],
   "source": [
    "#function definition :udf 9user defined function\n",
    "\n",
    "#1.user defined function (udf)without parameter\n",
    "def add():\n",
    "    num1=100\n",
    "    num2=200\n",
    "    return num1+num2 #return an expression\n",
    "print(add()) #function calling"
   ]
  },
  {
   "cell_type": "code",
   "execution_count": 58,
   "id": "e501d7f4",
   "metadata": {},
   "outputs": [
    {
     "name": "stdout",
     "output_type": "stream",
     "text": [
      "300\n"
     ]
    }
   ],
   "source": [
    "#2.User Defined  function (udf) with parameter\n",
    "\n",
    "def add (num1,num2):\n",
    "    num3=num1+num2\n",
    "    return num3\n",
    "\n",
    "ans =add(100,200)\n",
    "print(ans)"
   ]
  },
  {
   "cell_type": "code",
   "execution_count": 59,
   "id": "11f1d6a9",
   "metadata": {},
   "outputs": [
    {
     "name": "stdout",
     "output_type": "stream",
     "text": [
      "the answer is: 300\n"
     ]
    }
   ],
   "source": [
    "#3. user defined function (udf) with parameter\n",
    "\n",
    "def add (num1,num2):\n",
    "    num3= num1+num2\n",
    "    print('the answer is:',num3)\n",
    "    \n",
    "add(100,200)"
   ]
  },
  {
   "cell_type": "code",
   "execution_count": 61,
   "id": "533bc31e",
   "metadata": {},
   "outputs": [],
   "source": [
    "number1 = float(input(\"enter the first number:\"))\n",
    "number2 = float(input(\"enter the second number\"))\n",
    "choice = input(\"enter the choice:1/2/3/4\")\n",
    "\n",
    "def add (number1,number2):\n",
    "    number3 = nmber1+number2\n",
    "    return number3\n",
    "def sub(number1,number2):\n",
    "    number3 = number1-number2\n",
    "    return number3\n",
    "\n",
    "def mul(number1,number2):\n",
    "    number3=number1*number2\n",
    "    return number3\n",
    "if choice=='1':\n",
    "    ans=add(number1,number2)\n",
    "    print(f'the addition of two number{number1} and {number2} is {ans}')\n",
    "elif choice=='3':\n",
    "    ans=sub(number1,number2)\n",
    "    print(f'the addition of two number{number1} and {number2} is {ans}')\n",
    "elif choice=='3':\n",
    "    ans=mul(number1,number2)\n",
    "    print(f'the addition of two number{number1} and {number2} is {ans}')\n",
    "    "
   ]
  },
  {
   "cell_type": "code",
   "execution_count": 66,
   "id": "9640b1ed",
   "metadata": {},
   "outputs": [
    {
     "name": "stdout",
     "output_type": "stream",
     "text": [
      "30\n",
      "[2, 4, 6, 8, 10]\n"
     ]
    }
   ],
   "source": [
    "#lst =[2 4 6 8 10]\n",
    "#sum =30\\\n",
    "def compute ():\n",
    "    lst=[]\n",
    "    sum=0\n",
    "    for i in range(1,11):\n",
    "        if i%2 ==0:\n",
    "            lst.append(i)\n",
    "            sum=sum+i\n",
    "    return sum ,lst\n",
    "sum,lst=compute()\n",
    "print(sum)\n",
    "print(lst)        \n",
    "\n",
    "    "
   ]
  },
  {
   "cell_type": "code",
   "execution_count": 68,
   "id": "bf1fc0a7",
   "metadata": {},
   "outputs": [
    {
     "name": "stdout",
     "output_type": "stream",
     "text": [
      "25\n",
      "[1, 3, 5, 7, 9]\n"
     ]
    }
   ],
   "source": [
    "def compute ():\n",
    "    lst=[]\n",
    "    sum=0\n",
    "    for i in range(1,11):\n",
    "        if i%2 !=0:\n",
    "            lst.append(i)\n",
    "            sum=sum+i\n",
    "    return sum ,lst\n",
    "sum,lst=compute()\n",
    "print(sum)\n",
    "print(lst)        \n"
   ]
  },
  {
   "cell_type": "code",
   "execution_count": 69,
   "id": "37540b33",
   "metadata": {},
   "outputs": [
    {
     "name": "stdout",
     "output_type": "stream",
     "text": [
      "3000\n"
     ]
    }
   ],
   "source": [
    "num=100 #variable definition \n",
    "def test():#function definitin\n",
    "    global num #global definition variable\n",
    "    num =3000 #local variable definition\n",
    "    print(num)\n",
    "    \n",
    "test()#function calling"
   ]
  }
 ],
 "metadata": {
  "kernelspec": {
   "display_name": "Python 3",
   "language": "python",
   "name": "python3"
  },
  "language_info": {
   "codemirror_mode": {
    "name": "ipython",
    "version": 3
   },
   "file_extension": ".py",
   "mimetype": "text/x-python",
   "name": "python",
   "nbconvert_exporter": "python",
   "pygments_lexer": "ipython3",
   "version": "3.12.11"
  }
 },
 "nbformat": 4,
 "nbformat_minor": 5
}

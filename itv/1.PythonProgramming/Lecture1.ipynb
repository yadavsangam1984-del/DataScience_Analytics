{
 "cells": [
  {
   "cell_type": "code",
   "execution_count": 8,
   "id": "e6bfb796",
   "metadata": {},
   "outputs": [
    {
     "name": "stdout",
     "output_type": "stream",
     "text": [
      "<class 'int'>\n",
      "<class 'float'>\n",
      "<class 'complex'>\n"
     ]
    }
   ],
   "source": [
    "# Single line Comment\n",
    "\n",
    "# Data Types in Python Programming\n",
    "''' \n",
    "1.Int\n",
    "2.float\n",
    "3.complex\n",
    "4.string\n",
    "5.boolean\n",
    "6.list\n",
    "7.tuple\n",
    "8.set\n",
    "9.dict\n",
    "10.class : custom Datatype\n",
    "\n",
    "'''\n",
    "number = 100\n",
    "number1 = 23.456\n",
    "number2 = 2+3j\n",
    "\n",
    "\n",
    "print(type(number)) #this will give the datatype of number\n",
    "print(type(number1))\n",
    "print(type(number2))\n",
    "\n"
   ]
  },
  {
   "cell_type": "code",
   "execution_count": 9,
   "id": "a607b23f",
   "metadata": {},
   "outputs": [],
   "source": [
    "# Variable Definition\n",
    "\n",
    "x = 10  #single variable assignment\n",
    "x,y=1000,2000\n",
    "x,y,z,_=1,2,3,4  #multiple variable assignment\n",
    "\n",
    "_,a,b,c=10,20,30,40\n"
   ]
  },
  {
   "cell_type": "code",
   "execution_count": null,
   "id": "e54cb79a",
   "metadata": {},
   "outputs": [],
   "source": []
  },
  {
   "cell_type": "code",
   "execution_count": 10,
   "id": "70ba6511",
   "metadata": {},
   "outputs": [
    {
     "name": "stdout",
     "output_type": "stream",
     "text": [
      "100100\n"
     ]
    }
   ],
   "source": [
    "num='100'  # string\n",
    "num1=2\n",
    "\n",
    "num2=num*num1\n",
    "print(num2)"
   ]
  },
  {
   "cell_type": "code",
   "execution_count": null,
   "id": "346622b2",
   "metadata": {},
   "outputs": [],
   "source": []
  },
  {
   "cell_type": "code",
   "execution_count": 11,
   "id": "31eff529",
   "metadata": {},
   "outputs": [
    {
     "name": "stdout",
     "output_type": "stream",
     "text": [
      "20\n"
     ]
    }
   ],
   "source": [
    "number=10\n",
    "Number=20\n",
    "\n",
    "print(Number)"
   ]
  },
  {
   "cell_type": "code",
   "execution_count": null,
   "id": "89cab134",
   "metadata": {},
   "outputs": [
    {
     "data": {
      "text/plain": [
       "'\\n1.special characters are not allowed at the prefix of variable\\nexample: 123num : Not allowed x\\n2.the variable definition should not contain any special character or space\\nexample : primary number : not allowed x\\n\\n\\n\\n\\n\\n\\n\\n\\n\\n\\n'"
      ]
     },
     "execution_count": 12,
     "metadata": {},
     "output_type": "execute_result"
    }
   ],
   "source": [
    "Integer_Number = 100\n",
    "#Rules for Variable Definition\n",
    "\n",
    "'''\n",
    "1.special characters are not allowed at the prefix of variable\n",
    "example: 123num : Not allowed x\n",
    "2.the variable definition should not contain any special character or space\n",
    "example : primary number : not allowed x\n",
    "\n",
    "'''"
   ]
  },
  {
   "cell_type": "code",
   "execution_count": 13,
   "id": "88d32c0b",
   "metadata": {},
   "outputs": [
    {
     "name": "stdout",
     "output_type": "stream",
     "text": [
      "hi\n",
      "300\n"
     ]
    }
   ],
   "source": [
    "# print function\n",
    "\n",
    "print('hi')\n",
    "print(100+200)"
   ]
  },
  {
   "cell_type": "code",
   "execution_count": 14,
   "id": "87b9c4b7",
   "metadata": {},
   "outputs": [
    {
     "name": "stdout",
     "output_type": "stream",
     "text": [
      "300.0\n",
      "the output of two mathematical number operttion 300.0\n",
      "the output of two mathematical number operttion300.0\n",
      "the output of two mathematical number operttion 300.0\n",
      "\n"
     ]
    }
   ],
   "source": [
    "# example : simple calculator\n",
    "\n",
    "'''\n",
    "logic \n",
    "step1-ask user to enter the two values\n",
    "step2-perform mathematical operations\n",
    "step3-print the output\n",
    "\n",
    "'''\n",
    "\n",
    "num1 = float(input('Enter the first value:')) #type casted to float\n",
    "num2 = float(input('Enter the second value:'))#type casted to float\n",
    "\n",
    "num3=num1+num2\n",
    "\n",
    "\n",
    "print(num3)\n",
    "\n",
    "\n",
    "'''\n",
    "\n",
    "\n",
    "\n",
    "'''\n",
    "print ('the output of two mathematical number operttion',num3)\n",
    "print (f'the output of two mathematical number operttion{num3}') #f string method\n",
    "print(f'the output of two mathematical number operttion {num3}'.format(num3))\n",
    "print()"
   ]
  },
  {
   "cell_type": "code",
   "execution_count": 15,
   "id": "4d30372b",
   "metadata": {},
   "outputs": [
    {
     "data": {
      "text/plain": [
       "'\\n1. add\\n2.sub\\n3.mult\\n4.divide\\n\\n'"
      ]
     },
     "execution_count": 15,
     "metadata": {},
     "output_type": "execute_result"
    }
   ],
   "source": [
    "#operations in python programming\n",
    "'''\n",
    "1. add\n",
    "2.sub\n",
    "3.mult\n",
    "4.divide\n",
    "\n",
    "'''"
   ]
  },
  {
   "cell_type": "code",
   "execution_count": 17,
   "id": "2f17ea12",
   "metadata": {},
   "outputs": [
    {
     "data": {
      "text/plain": [
       "(35, 20, 40, 20.0, 20, 0)"
      ]
     },
     "execution_count": 17,
     "metadata": {},
     "output_type": "execute_result"
    }
   ],
   "source": [
    "12+23,40-20,20*2,40/2,40//2,40%2"
   ]
  },
  {
   "cell_type": "code",
   "execution_count": 23,
   "id": "e3ff1100",
   "metadata": {},
   "outputs": [
    {
     "name": "stdout",
     "output_type": "stream",
     "text": [
      "el ec\n"
     ]
    }
   ],
   "source": [
    "#concept of indexing nd slicing\n",
    "\n",
    "str='hello welcome to the world of python programming.'\n",
    "\n",
    "str[-3]\n",
    "\n",
    "'''\n",
    "note :\n",
    "string indexing : string[start:stop:step]\n",
    "\n",
    "'''\n",
    "#ello welc\n",
    "print(str[1 :10 :2])"
   ]
  },
  {
   "cell_type": "code",
   "execution_count": 1,
   "id": "6feed5f3",
   "metadata": {},
   "outputs": [
    {
     "name": "stdout",
     "output_type": "stream",
     "text": [
      "i sagetcut\n"
     ]
    }
   ],
   "source": [
    "str= 'India is a great country'\n",
    "print(str[3:-2:2])"
   ]
  },
  {
   "cell_type": "code",
   "execution_count": 8,
   "id": "66c0ab2b",
   "metadata": {},
   "outputs": [
    {
     "name": "stdout",
     "output_type": "stream",
     "text": [
      "rica Nic\n"
     ]
    }
   ],
   "source": [
    "str='America Nice'\n",
    "print(str[-9:-1:])"
   ]
  },
  {
   "cell_type": "code",
   "execution_count": 9,
   "id": "47bc8a0e",
   "metadata": {},
   "outputs": [
    {
     "name": "stdout",
     "output_type": "stream",
     "text": [
      "I am True\n"
     ]
    }
   ],
   "source": [
    "# if else statement\n",
    "\n",
    "\n",
    "if True:\n",
    "    print(\"I am True\")\n",
    "    \n",
    "if False:\n",
    "    print(\"I am False\")"
   ]
  },
  {
   "cell_type": "code",
   "execution_count": 10,
   "id": "07cb92f8",
   "metadata": {},
   "outputs": [
    {
     "name": "stdout",
     "output_type": "stream",
     "text": [
      "not satisfy the criteria\n"
     ]
    }
   ],
   "source": [
    "'''logic:\n",
    "if <condition>\n",
    "    print(\"output1\")\n",
    "    \n",
    "else:\n",
    "   print(\"output2\")\n",
    "    '''\n",
    "    \n",
    "    \n",
    "num=100\n",
    "\n",
    "if num > 100:\n",
    "    print('the number is satisfy criteria')\n",
    "    \n",
    "else:\n",
    "    print('not satisfy the criteria')    "
   ]
  },
  {
   "cell_type": "code",
   "execution_count": 13,
   "id": "dc6bc4e1",
   "metadata": {},
   "outputs": [
    {
     "name": "stdout",
     "output_type": "stream",
     "text": [
      "the number is 1\n"
     ]
    }
   ],
   "source": [
    "# Guessing the number game\n",
    "''' \n",
    "\n",
    "Logic:\n",
    "step1: Enter the Number\n",
    "step2: Write logic code to guess the correct number\n",
    "step3: output\n",
    "\n",
    "'''\n",
    "number=float(input('enter the number between 1 to 3:'))\n",
    "if number == 1:\n",
    "    print('the number is 1')\n",
    "    \n",
    "if number==2:\n",
    "    print('the number is 2')\n",
    "    \n",
    "if number==3:\n",
    "    print('the number is 3')\n",
    "\n"
   ]
  },
  {
   "cell_type": "code",
   "execution_count": 14,
   "id": "4a03fae0",
   "metadata": {},
   "outputs": [
    {
     "name": "stdout",
     "output_type": "stream",
     "text": [
      "The Enter number is lower value\n"
     ]
    }
   ],
   "source": [
    "number - float(input())\n",
    "if number >2:\n",
    "    print('The Enter number is higher value')\n",
    "    \n",
    "if number <2:\n",
    "    print('The Enter number is lower value')\n",
    "    \n",
    "else:\n",
    "    print('The Enter number is 2')"
   ]
  },
  {
   "cell_type": "code",
   "execution_count": null,
   "id": "885ad403",
   "metadata": {},
   "outputs": [],
   "source": [
    "if True:\n",
    "    if True:\n",
    "        if True:\n",
    "            print('very good')"
   ]
  },
  {
   "cell_type": "code",
   "execution_count": 16,
   "id": "7187be80",
   "metadata": {},
   "outputs": [
    {
     "name": "stdout",
     "output_type": "stream",
     "text": [
      "not a palindrom\n"
     ]
    }
   ],
   "source": [
    "#example : to check whether the given string is palandrom or not\n",
    "'''\n",
    "step1:ask user to enter the string\n",
    "step2: Reverse the string\n",
    "step3: use if else logic to print the output\n",
    "\n",
    "'''\n",
    "\n",
    "text1=input('Enter the string') # assignment operator\n",
    "text2=text1[::-1]\n",
    "\n",
    "if text1 == text2:\n",
    "    print('The given string is palindrom')\n",
    "else:\n",
    "    print('not a palindrom')\n",
    "    "
   ]
  },
  {
   "cell_type": "code",
   "execution_count": 4,
   "id": "970e1910",
   "metadata": {},
   "outputs": [
    {
     "name": "stdout",
     "output_type": "stream",
     "text": [
      "the volume of cylinder is 392.76250000000005 mm^3\n"
     ]
    }
   ],
   "source": [
    "8//5\n",
    "\n",
    "\n",
    "\n",
    "# EXAMPLE : WRITE A PROGRAM TO PRINT VOLUME \n",
    "'''\n",
    "VOLUME = AREA*HEIGHT\n",
    "STEP1:ASK USER TO ENTER THE DIAMETER OF CYLENDER\n",
    "STEP2:ASK USER TO ENTER THE HEIGHT OF CYLENDER\n",
    "STEP3:VOLUME =AREA *HEIGHT\n",
    "STEP4:PRINT THE DESIRED OUTPUT\n",
    "'''\n",
    "\n",
    "PI=3.1421\n",
    "DIAMETER = float(input(\"enter the diameter of the cylinder\"))\n",
    "height=float(input(\"enter the height of the cylinder\"))\n",
    "\n",
    "volume=(PI/4)*(DIAMETER**2)* height \n",
    "\n",
    "print (f'the volume of cylinder is {volume} mm^3')\n"
   ]
  },
  {
   "cell_type": "code",
   "execution_count": 5,
   "id": "ef9ff78b",
   "metadata": {},
   "outputs": [
    {
     "name": "stdout",
     "output_type": "stream",
     "text": [
      "Average\n"
     ]
    }
   ],
   "source": [
    "#exmple:\n",
    "'''\n",
    "step1: ask user to enter the marks \n",
    "step2: logic:\n",
    "       marks >90:  excellent\n",
    "       90<marks>60: bright\n",
    "       marks less than 60:moderate\n",
    "step3:print the output\n",
    "'''\n",
    "marks=float(input(\"Enter the number\"))\n",
    "\n",
    "if marks>90:\n",
    "    print('Excellent')\n",
    "elif marks<90 and marks>60:\n",
    "    print(\"Bright\")\n",
    "else:\n",
    "    print(\"Average\")\n",
    "\n",
    "\n"
   ]
  },
  {
   "cell_type": "code",
   "execution_count": 7,
   "id": "26e4523f",
   "metadata": {},
   "outputs": [
    {
     "name": "stdout",
     "output_type": "stream",
     "text": [
      "0\n",
      "1\n",
      "2\n",
      "3\n",
      "4\n",
      "5\n",
      "6\n",
      "7\n",
      "8\n",
      "9\n"
     ]
    }
   ],
   "source": [
    "# for loop \n",
    "# range (start ,stop,step)\n",
    "for i in range(0,10):\n",
    "    print(i)\n"
   ]
  },
  {
   "cell_type": "code",
   "execution_count": 8,
   "id": "cc8b2228",
   "metadata": {},
   "outputs": [
    {
     "name": "stdout",
     "output_type": "stream",
     "text": [
      "0\n",
      "2\n",
      "4\n",
      "6\n",
      "8\n"
     ]
    }
   ],
   "source": [
    "for i in range(0,10,2):\n",
    "    print(i)"
   ]
  },
  {
   "cell_type": "code",
   "execution_count": 12,
   "id": "5cef45ed",
   "metadata": {},
   "outputs": [
    {
     "name": "stdout",
     "output_type": "stream",
     "text": [
      "0 1 2 3 4 5 6 7 8 9 "
     ]
    }
   ],
   "source": [
    "for i in range(0,10):\n",
    "    print(i,end=\" \")"
   ]
  },
  {
   "cell_type": "code",
   "execution_count": 16,
   "id": "6249f894",
   "metadata": {},
   "outputs": [
    {
     "name": "stdout",
     "output_type": "stream",
     "text": [
      "\n",
      "$\n",
      "$$\n",
      "$$$\n",
      "$$$$\n",
      "$$$$$\n",
      "$$$$$$\n",
      "$$$$$$$\n",
      "$$$$$$$$\n",
      "$$$$$$$$$\n"
     ]
    }
   ],
   "source": [
    "for i in range(10):\n",
    "    print('$'*i)"
   ]
  },
  {
   "cell_type": "code",
   "execution_count": null,
   "id": "7fa4346b",
   "metadata": {},
   "outputs": [],
   "source": [
    "for i in range(0,10):\n",
    "    print(i)\n",
    "    if i ==6:\n",
    "        break"
   ]
  },
  {
   "cell_type": "code",
   "execution_count": 1,
   "id": "6ce72e63",
   "metadata": {},
   "outputs": [
    {
     "name": "stdout",
     "output_type": "stream",
     "text": [
      "0\n",
      "1\n",
      "2\n",
      "3\n",
      "4\n",
      "5\n",
      "6\n",
      "7\n",
      "8\n",
      "9\n"
     ]
    }
   ],
   "source": [
    "for i in range(0,10):\n",
    "    print(i)\n",
    "    if i ==6:\n",
    "        continue"
   ]
  },
  {
   "cell_type": "code",
   "execution_count": null,
   "id": "3bb50b51",
   "metadata": {},
   "outputs": [],
   "source": [
    "#example\n",
    "#palindrom function definition\n",
    "def palindrom():\n",
    "    text1 = input"
   ]
  },
  {
   "cell_type": "code",
   "execution_count": 6,
   "id": "2a78c018",
   "metadata": {},
   "outputs": [
    {
     "name": "stdout",
     "output_type": "stream",
     "text": [
      "The Answer is 300\n"
     ]
    }
   ],
   "source": [
    "# Example\n",
    "\n",
    "def compute(num1,num2):\n",
    "    num3=num1+num2\n",
    "    return num3\n",
    "\n",
    "ans= compute(100,200)\n",
    "\n",
    "print(f'The Answer is {ans}')"
   ]
  }
 ],
 "metadata": {
  "kernelspec": {
   "display_name": "Python 3",
   "language": "python",
   "name": "python3"
  },
  "language_info": {
   "codemirror_mode": {
    "name": "ipython",
    "version": 3
   },
   "file_extension": ".py",
   "mimetype": "text/x-python",
   "name": "python",
   "nbconvert_exporter": "python",
   "pygments_lexer": "ipython3",
   "version": "3.12.11"
  }
 },
 "nbformat": 4,
 "nbformat_minor": 5
}

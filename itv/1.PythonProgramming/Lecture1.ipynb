{
 "cells": [
  {
   "cell_type": "code",
   "execution_count": 8,
   "id": "e6bfb796",
   "metadata": {},
   "outputs": [
    {
     "name": "stdout",
     "output_type": "stream",
     "text": [
      "<class 'int'>\n",
      "<class 'float'>\n",
      "<class 'complex'>\n"
     ]
    }
   ],
   "source": [
    "# Single line Comment\n",
    "\n",
    "# Data Types in Python Programming\n",
    "''' \n",
    "1.Int\n",
    "2.float\n",
    "3.complex\n",
    "4.string\n",
    "5.boolean\n",
    "6.list\n",
    "7.tuple\n",
    "8.set\n",
    "9.dict\n",
    "10.class : custom Datatype\n",
    "\n",
    "'''\n",
    "number = 100\n",
    "number1 = 23.456\n",
    "number2 = 2+3j\n",
    "\n",
    "\n",
    "print(type(number)) #this will give the datatype of number\n",
    "print(type(number1))\n",
    "print(type(number2))\n",
    "\n"
   ]
  },
  {
   "cell_type": "code",
   "execution_count": 9,
   "id": "a607b23f",
   "metadata": {},
   "outputs": [],
   "source": [
    "# Variable Definition\n",
    "\n",
    "x = 10  #single variable assignment\n",
    "x,y=1000,2000\n",
    "x,y,z,_=1,2,3,4  #multiple variable assignment\n",
    "\n",
    "_,a,b,c=10,20,30,40\n"
   ]
  },
  {
   "cell_type": "code",
   "execution_count": 10,
   "id": "70ba6511",
   "metadata": {},
   "outputs": [
    {
     "name": "stdout",
     "output_type": "stream",
     "text": [
      "100100\n"
     ]
    }
   ],
   "source": [
    "num='100'  # string\n",
    "num1=2\n",
    "\n",
    "num2=num*num1\n",
    "print(num2)"
   ]
  },
  {
   "cell_type": "code",
   "execution_count": null,
   "id": "346622b2",
   "metadata": {},
   "outputs": [],
   "source": []
  },
  {
   "cell_type": "code",
   "execution_count": 11,
   "id": "31eff529",
   "metadata": {},
   "outputs": [
    {
     "name": "stdout",
     "output_type": "stream",
     "text": [
      "20\n"
     ]
    }
   ],
   "source": [
    "number=10\n",
    "Number=20\n",
    "\n",
    "print(Number)"
   ]
  },
  {
   "cell_type": "code",
   "execution_count": null,
   "id": "89cab134",
   "metadata": {},
   "outputs": [
    {
     "data": {
      "text/plain": [
       "'\\n1.special characters are not allowed at the prefix of variable\\nexample: 123num : Not allowed x\\n2.the variable definition should not contain any special character or space\\nexample : primary number : not allowed x\\n\\n\\n\\n\\n\\n\\n\\n\\n\\n\\n'"
      ]
     },
     "execution_count": 12,
     "metadata": {},
     "output_type": "execute_result"
    }
   ],
   "source": [
    "Integer_Number = 100\n",
    "#Rules for Variable Definition\n",
    "\n",
    "'''\n",
    "1.special characters are not allowed at the prefix of variable\n",
    "example: 123num : Not allowed x\n",
    "2.the variable definition should not contain any special character or space\n",
    "example : primary number : not allowed x\n",
    "\n",
    "'''"
   ]
  },
  {
   "cell_type": "code",
   "execution_count": 13,
   "id": "88d32c0b",
   "metadata": {},
   "outputs": [
    {
     "name": "stdout",
     "output_type": "stream",
     "text": [
      "hi\n",
      "300\n"
     ]
    }
   ],
   "source": [
    "# print function\n",
    "\n",
    "print('hi')\n",
    "print(100+200)"
   ]
  },
  {
   "cell_type": "code",
   "execution_count": 14,
   "id": "87b9c4b7",
   "metadata": {},
   "outputs": [
    {
     "name": "stdout",
     "output_type": "stream",
     "text": [
      "300.0\n",
      "the output of two mathematical number operttion 300.0\n",
      "the output of two mathematical number operttion300.0\n",
      "the output of two mathematical number operttion 300.0\n",
      "\n"
     ]
    }
   ],
   "source": [
    "# example : simple calculator\n",
    "\n",
    "'''\n",
    "logic \n",
    "step1-ask user to enter the two values\n",
    "step2-perform mathematical operations\n",
    "step3-print the output\n",
    "\n",
    "'''\n",
    "\n",
    "num1 = float(input('Enter the first value:')) #type casted to float\n",
    "num2 = float(input('Enter the second value:'))#type casted to float\n",
    "\n",
    "num3=num1+num2\n",
    "\n",
    "\n",
    "print(num3)\n",
    "\n",
    "\n",
    "'''\n",
    "\n",
    "\n",
    "\n",
    "'''\n",
    "print ('the output of two mathematical number operttion',num3)\n",
    "print (f'the output of two mathematical number operttion{num3}') #f string method\n",
    "print(f'the output of two mathematical number operttion {num3}'.format(num3))\n",
    "print()"
   ]
  },
  {
   "cell_type": "code",
   "execution_count": 15,
   "id": "4d30372b",
   "metadata": {},
   "outputs": [
    {
     "data": {
      "text/plain": [
       "'\\n1. add\\n2.sub\\n3.mult\\n4.divide\\n\\n'"
      ]
     },
     "execution_count": 15,
     "metadata": {},
     "output_type": "execute_result"
    }
   ],
   "source": [
    "#operations in python programming\n",
    "'''\n",
    "1. add\n",
    "2.sub\n",
    "3.mult\n",
    "4.divide\n",
    "\n",
    "'''"
   ]
  },
  {
   "cell_type": "code",
   "execution_count": 17,
   "id": "2f17ea12",
   "metadata": {},
   "outputs": [
    {
     "data": {
      "text/plain": [
       "(35, 20, 40, 20.0, 20, 0)"
      ]
     },
     "execution_count": 17,
     "metadata": {},
     "output_type": "execute_result"
    }
   ],
   "source": [
    "12+23,40-20,20*2,40/2,40//2,40%2"
   ]
  },
  {
   "cell_type": "code",
   "execution_count": 23,
   "id": "e3ff1100",
   "metadata": {},
   "outputs": [
    {
     "name": "stdout",
     "output_type": "stream",
     "text": [
      "el ec\n"
     ]
    }
   ],
   "source": [
    "#concept of indexing nd slicing\n",
    "\n",
    "str='hello welcome to the world of python programming.'\n",
    "\n",
    "str[-3]\n",
    "\n",
    "'''\n",
    "note :\n",
    "string indexing : string[start:stop:step]\n",
    "\n",
    "'''\n",
    "#ello welc\n",
    "print(str[1 :10 :2])"
   ]
  },
  {
   "cell_type": "code",
   "execution_count": 24,
   "id": "6feed5f3",
   "metadata": {},
   "outputs": [
    {
     "name": "stdout",
     "output_type": "stream",
     "text": [
      "tgha\n"
     ]
    }
   ],
   "source": [
    "str= 'tathaget'\n",
    "print(str[::-2])"
   ]
  }
 ],
 "metadata": {
  "kernelspec": {
   "display_name": "Python 3",
   "language": "python",
   "name": "python3"
  },
  "language_info": {
   "codemirror_mode": {
    "name": "ipython",
    "version": 3
   },
   "file_extension": ".py",
   "mimetype": "text/x-python",
   "name": "python",
   "nbconvert_exporter": "python",
   "pygments_lexer": "ipython3",
   "version": "3.12.11"
  }
 },
 "nbformat": 4,
 "nbformat_minor": 5
}
